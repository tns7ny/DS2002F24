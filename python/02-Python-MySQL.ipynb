{
 "cells": [
  {
   "cell_type": "markdown",
   "id": "5738ea3e",
   "metadata": {},
   "source": [
    "## Using Python to Query MySQL\n",
    "This notebook demonstrates using a couple of different database connectivity libraries to connect to and query a MySQL database.\n",
    "- **PyMySQL** library\n",
    "- MySQL's Native **mysql.connector** library\n",
    "- **SqlAlchemy** library\n",
    "\n",
    "### 1.0. Prerequisites\n",
    "\n",
    "#### 1.1. First, you must **install** the libaries into your *python* environment by executing the following commands in a *Terminal window*\n",
    "- python -m pip install PyMySQL\n",
    "- python -m pip install mysql.connector-python\n",
    "- python -m pip install sqlalchemy\n",
    "\n",
    "#### 1.2. Next, as with all Jupyter Notebooks, you need to **Import** the libaries that you'll be working with in the notebook,"
   ]
  },
  {
   "cell_type": "code",
   "execution_count": 11,
   "id": "8f29818b-24dc-45d1-803f-d5232ad12634",
   "metadata": {},
   "outputs": [
    {
     "name": "stdout",
     "output_type": "stream",
     "text": [
      "Requirement already satisfied: sqlalchemy in c:\\users\\jason\\anaconda3\\lib\\site-packages (2.0.30)\n",
      "Requirement already satisfied: typing-extensions>=4.6.0 in c:\\users\\jason\\anaconda3\\lib\\site-packages (from sqlalchemy) (4.11.0)\n",
      "Requirement already satisfied: greenlet!=0.4.17 in c:\\users\\jason\\anaconda3\\lib\\site-packages (from sqlalchemy) (3.0.1)\n"
     ]
    }
   ],
   "source": [
    "!pip install sqlalchemy"
   ]
  },
  {
   "cell_type": "code",
   "execution_count": 13,
   "id": "c1c46e6b",
   "metadata": {},
   "outputs": [],
   "source": [
    "import os\n",
    "import pymysql\n",
    "import mysql.connector\n",
    "from sqlalchemy import create_engine\n",
    "\n",
    "import pandas as pd\n",
    "import matplotlib.pyplot as plt"
   ]
  },
  {
   "cell_type": "markdown",
   "id": "4128c8b5",
   "metadata": {},
   "source": [
    "#### 1.3. And then, Assign Connection Variables for the MySQL Server & Database with which You'll be Working "
   ]
  },
  {
   "cell_type": "code",
   "execution_count": 31,
   "id": "e45f728e",
   "metadata": {},
   "outputs": [],
   "source": [
    "host_name = \"ds2002.org\" #\"compid-mysql.mysql.database.azure.com\"\n",
    "host_ip = \"ds2002.org\"\n",
    "port = \"3306\"\n",
    "\n",
    "user_id = \"rhs7rg\"\n",
    "pwd = \"rhs7rg!\"\n",
    "db_name = \"northwind\""
   ]
  },
  {
   "cell_type": "markdown",
   "id": "972fedd1",
   "metadata": {},
   "source": [
    "### 2.0. Using the PyMySQL Library\n",
    "#### 2.1. Using a Cursor to Iterate the Rows Returned"
   ]
  },
  {
   "cell_type": "code",
   "execution_count": 34,
   "id": "8c8afe4f",
   "metadata": {},
   "outputs": [
    {
     "name": "stdout",
     "output_type": "stream",
     "text": [
      "('4', 1, 'NWTB-1', 'Northwind Traders Chai', None, Decimal('13.5000'), Decimal('18.0000'), 10, 40, '10 boxes x 20 bags', 0, 10, 'Beverages', b'')\n",
      "('10', 3, 'NWTCO-3', 'Northwind Traders Syrup', None, Decimal('7.5000'), Decimal('10.0000'), 25, 100, '12 - 550 ml bottles', 0, 25, 'Condiments', b'')\n",
      "('10', 4, 'NWTCO-4', 'Northwind Traders Cajun Seasoning', None, Decimal('16.5000'), Decimal('22.0000'), 10, 40, '48 - 6 oz jars', 0, 10, 'Condiments', b'')\n",
      "('10', 5, 'NWTO-5', 'Northwind Traders Olive Oil', None, Decimal('16.0125'), Decimal('21.3500'), 10, 40, '36 boxes', 0, 10, 'Oil', b'')\n",
      "('2;6', 6, 'NWTJP-6', 'Northwind Traders Boysenberry Spread', None, Decimal('18.7500'), Decimal('25.0000'), 25, 100, '12 - 8 oz jars', 0, 25, 'Jams, Preserves', b'')\n"
     ]
    }
   ],
   "source": [
    "conn = pymysql.connect(host=host_name, user=user_id, password=pwd, database=db_name)\n",
    "cursor = conn.cursor()\n",
    "\n",
    "try:\n",
    "    cursor.execute('SELECT * FROM products;')\n",
    "    \n",
    "    for row in cursor.fetchmany(size=5):\n",
    "        print(row)\n",
    "        \n",
    "    cursor.close()\n",
    "    \n",
    "except:\n",
    "    print (\"Error: unable to fetch data\")\n",
    "    \n",
    "conn.close()"
   ]
  },
  {
   "cell_type": "code",
   "execution_count": 36,
   "id": "2574c8ae",
   "metadata": {},
   "outputs": [
    {
     "name": "stdout",
     "output_type": "stream",
     "text": [
      "{'supplier_ids': '2;6', 'id': 20, 'product_code': 'NWTJP-6', 'product_name': 'Northwind Traders Marmalade', 'description': None, 'standard_cost': Decimal('60.7500'), 'list_price': Decimal('81.0000'), 'reorder_level': 10, 'target_level': 40, 'quantity_per_unit': '30 gift boxes', 'discontinued': 0, 'minimum_reorder_quantity': 10, 'category': 'Jams, Preserves', 'attachments': b''}\n",
      "{'supplier_ids': '2', 'id': 51, 'product_code': 'NWTDFN-51', 'product_name': 'Northwind Traders Dried Apples', 'description': None, 'standard_cost': Decimal('39.7500'), 'list_price': Decimal('53.0000'), 'reorder_level': 10, 'target_level': 40, 'quantity_per_unit': '50 - 300 g pkgs.', 'discontinued': 0, 'minimum_reorder_quantity': 10, 'category': 'Dried Fruit & Nuts', 'attachments': b''}\n",
      "{'supplier_ids': '3;4', 'id': 43, 'product_code': 'NWTB-43', 'product_name': 'Northwind Traders Coffee', 'description': None, 'standard_cost': Decimal('34.5000'), 'list_price': Decimal('46.0000'), 'reorder_level': 25, 'target_level': 100, 'quantity_per_unit': '16 - 500 g tins', 'discontinued': 0, 'minimum_reorder_quantity': 25, 'category': 'Beverages', 'attachments': b''}\n",
      "{'supplier_ids': '8', 'id': 8, 'product_code': 'NWTS-8', 'product_name': 'Northwind Traders Curry Sauce', 'description': None, 'standard_cost': Decimal('30.0000'), 'list_price': Decimal('40.0000'), 'reorder_level': 10, 'target_level': 40, 'quantity_per_unit': '12 - 12 oz jars', 'discontinued': 0, 'minimum_reorder_quantity': 10, 'category': 'Sauces', 'attachments': b''}\n",
      "{'supplier_ids': '6', 'id': 17, 'product_code': 'NWTCFV-17', 'product_name': 'Northwind Traders Fruit Cocktail', 'description': None, 'standard_cost': Decimal('29.2500'), 'list_price': Decimal('39.0000'), 'reorder_level': 10, 'target_level': 40, 'quantity_per_unit': '15.25 OZ', 'discontinued': 0, 'minimum_reorder_quantity': 10, 'category': 'Canned Fruit & Vegetables', 'attachments': b''}\n"
     ]
    }
   ],
   "source": [
    "conn = pymysql.connect(host=host_name, user=user_id, password=pwd, database=db_name)\n",
    "cursor = conn.cursor(pymysql.cursors.DictCursor)\n",
    "\n",
    "try:\n",
    "    cursor.execute('SELECT * FROM products ORDER BY list_price DESC LIMIT 5;')\n",
    "    \n",
    "    for row in cursor.fetchall():\n",
    "        print(row)\n",
    "        \n",
    "    cursor.close()\n",
    "    \n",
    "except:\n",
    "    print (\"Error: unable to fetch data\")\n",
    "    \n",
    "conn.close()"
   ]
  },
  {
   "cell_type": "markdown",
   "id": "4de09d0c",
   "metadata": {},
   "source": [
    "#### 2.2. Using the Pandas read_sql() Method to Return a DataFrame"
   ]
  },
  {
   "cell_type": "markdown",
   "id": "54377f52",
   "metadata": {},
   "source": [
    "### 3.0. Using the MySQL Native Connection Library\n",
    "#### 3.1. Using a Cursor to Iterate the Rows Returned"
   ]
  },
  {
   "cell_type": "code",
   "execution_count": 40,
   "id": "fad4f7da",
   "metadata": {},
   "outputs": [],
   "source": [
    "lbound = 15.00\n",
    "ubound = 20.00\n",
    "\n",
    "sql_query = \"\"\"\n",
    "    SELECT id AS product_id\n",
    "        , product_name\n",
    "        , list_price\n",
    "    FROM northwind.products\n",
    "    WHERE list_price BETWEEN %s AND %s\n",
    "    ORDER BY list_price DESC;\n",
    "\"\"\""
   ]
  },
  {
   "cell_type": "code",
   "execution_count": 42,
   "id": "72b02b43",
   "metadata": {},
   "outputs": [],
   "source": [
    "conn = mysql.connector.connect(user=user_id, password=pwd,\n",
    "                               host=host_name, database=db_name,\n",
    "                               auth_plugin='mysql_native_password')"
   ]
  },
  {
   "cell_type": "code",
   "execution_count": 44,
   "id": "06bece02",
   "metadata": {},
   "outputs": [
    {
     "name": "stdout",
     "output_type": "stream",
     "text": [
      "57, Northwind Traders Ravioli was sold for 19.5000\n",
      "40, Northwind Traders Crab Meat was sold for 18.4000\n",
      "1, Northwind Traders Chai was sold for 18.0000\n",
      "66, Northwind Traders Tomato Sauce was sold for 17.0000\n",
      "86, Northwind Traders Cake Mix was sold for 15.9900\n"
     ]
    }
   ],
   "source": [
    "cursor = conn.cursor()\n",
    "\n",
    "try:\n",
    "    cursor.execute(sql_query, (lbound, ubound))\n",
    "    \n",
    "    for (product_id, product_name, list_price) in cursor:\n",
    "        print(\"{}, {} was sold for {}\".format(product_id, product_name, list_price))\n",
    "        \n",
    "    cursor.close()\n",
    "    \n",
    "except:\n",
    "    print (\"Error: unable to fetch data\")   "
   ]
  },
  {
   "cell_type": "code",
   "execution_count": 46,
   "id": "a0fba4a6",
   "metadata": {},
   "outputs": [
    {
     "name": "stdout",
     "output_type": "stream",
     "text": [
      "(57, 'Northwind Traders Ravioli', Decimal('19.5000'))\n",
      "(40, 'Northwind Traders Crab Meat', Decimal('18.4000'))\n",
      "(1, 'Northwind Traders Chai', Decimal('18.0000'))\n",
      "(66, 'Northwind Traders Tomato Sauce', Decimal('17.0000'))\n",
      "(86, 'Northwind Traders Cake Mix', Decimal('15.9900'))\n"
     ]
    }
   ],
   "source": [
    "cursor = conn.cursor()\n",
    "\n",
    "try:\n",
    "    cursor.execute(sql_query, (lbound, ubound))\n",
    "    \n",
    "    row = cursor.fetchone() \n",
    "    while row:\n",
    "        print(row)\n",
    "        row = cursor.fetchone()\n",
    "        \n",
    "    cursor.close()\n",
    "    \n",
    "except:\n",
    "    print (\"Error: unable to fetch data\")"
   ]
  },
  {
   "cell_type": "code",
   "execution_count": 48,
   "id": "d2764e86",
   "metadata": {},
   "outputs": [],
   "source": [
    "conn.close()"
   ]
  },
  {
   "cell_type": "markdown",
   "id": "7f8cf097",
   "metadata": {},
   "source": [
    "#### 3.2. Using Pandas read_sql() Method to Return a DataFrame"
   ]
  },
  {
   "cell_type": "code",
   "execution_count": 51,
   "id": "12c6382b",
   "metadata": {},
   "outputs": [
    {
     "name": "stdout",
     "output_type": "stream",
     "text": [
      "\n",
      "    SELECT id AS product_id\n",
      "        , product_name\n",
      "        , list_price\n",
      "    FROM northwind.products\n",
      "    WHERE list_price BETWEEN 15.0 AND 20.0\n",
      "    ORDER BY list_price DESC;\n",
      "\n"
     ]
    }
   ],
   "source": [
    "lbound = 15.00\n",
    "ubound = 20.00\n",
    "\n",
    "sql_query = \"\"\"\n",
    "    SELECT id AS product_id\n",
    "        , product_name\n",
    "        , list_price\n",
    "    FROM northwind.products\n",
    "    WHERE list_price BETWEEN {0} AND {1}\n",
    "    ORDER BY list_price DESC;\n",
    "\"\"\".format(lbound, ubound)\n",
    "\n",
    "print(sql_query)"
   ]
  },
  {
   "cell_type": "code",
   "execution_count": 56,
   "id": "f506d10e",
   "metadata": {},
   "outputs": [
    {
     "name": "stderr",
     "output_type": "stream",
     "text": [
      "C:\\Users\\jason\\AppData\\Local\\Temp\\ipykernel_3048\\452900532.py:12: UserWarning: pandas only supports SQLAlchemy connectable (engine/connection) or database string URI or sqlite3 DBAPI2 connection. Other DBAPI2 objects are not tested. Please consider using SQLAlchemy.\n",
      "  df = pd.read_sql(sql_query, conn)\n"
     ]
    },
    {
     "data": {
      "text/html": [
       "<div>\n",
       "<style scoped>\n",
       "    .dataframe tbody tr th:only-of-type {\n",
       "        vertical-align: middle;\n",
       "    }\n",
       "\n",
       "    .dataframe tbody tr th {\n",
       "        vertical-align: top;\n",
       "    }\n",
       "\n",
       "    .dataframe thead th {\n",
       "        text-align: right;\n",
       "    }\n",
       "</style>\n",
       "<table border=\"1\" class=\"dataframe\">\n",
       "  <thead>\n",
       "    <tr style=\"text-align: right;\">\n",
       "      <th></th>\n",
       "      <th>product_id</th>\n",
       "      <th>product_name</th>\n",
       "      <th>list_price</th>\n",
       "    </tr>\n",
       "  </thead>\n",
       "  <tbody>\n",
       "    <tr>\n",
       "      <th>0</th>\n",
       "      <td>57</td>\n",
       "      <td>Northwind Traders Ravioli</td>\n",
       "      <td>19.50</td>\n",
       "    </tr>\n",
       "    <tr>\n",
       "      <th>1</th>\n",
       "      <td>40</td>\n",
       "      <td>Northwind Traders Crab Meat</td>\n",
       "      <td>18.40</td>\n",
       "    </tr>\n",
       "    <tr>\n",
       "      <th>2</th>\n",
       "      <td>1</td>\n",
       "      <td>Northwind Traders Chai</td>\n",
       "      <td>18.00</td>\n",
       "    </tr>\n",
       "    <tr>\n",
       "      <th>3</th>\n",
       "      <td>66</td>\n",
       "      <td>Northwind Traders Tomato Sauce</td>\n",
       "      <td>17.00</td>\n",
       "    </tr>\n",
       "    <tr>\n",
       "      <th>4</th>\n",
       "      <td>86</td>\n",
       "      <td>Northwind Traders Cake Mix</td>\n",
       "      <td>15.99</td>\n",
       "    </tr>\n",
       "  </tbody>\n",
       "</table>\n",
       "</div>"
      ],
      "text/plain": [
       "   product_id                    product_name  list_price\n",
       "0          57       Northwind Traders Ravioli       19.50\n",
       "1          40     Northwind Traders Crab Meat       18.40\n",
       "2           1          Northwind Traders Chai       18.00\n",
       "3          66  Northwind Traders Tomato Sauce       17.00\n",
       "4          86      Northwind Traders Cake Mix       15.99"
      ]
     },
     "execution_count": 56,
     "metadata": {},
     "output_type": "execute_result"
    }
   ],
   "source": [
    "configs = {\n",
    "    'user': user_id,\n",
    "    'password': pwd,\n",
    "    'host': host_name,\n",
    "    'database': db_name,\n",
    "    'auth_plugin': 'mysql_native_password',\n",
    "    'raise_on_warnings': True\n",
    "}\n",
    "\n",
    "conn = mysql.connector.connect(**configs)\n",
    "\n",
    "df = pd.read_sql(sql_query, conn)\n",
    "\n",
    "conn.close()\n",
    "df.tail()"
   ]
  },
  {
   "cell_type": "markdown",
   "id": "598cfad9",
   "metadata": {},
   "source": [
    "### 4.0. Using the SQLAlchemy Connection Library"
   ]
  },
  {
   "cell_type": "code",
   "execution_count": 58,
   "id": "78569883",
   "metadata": {},
   "outputs": [
    {
     "data": {
      "text/html": [
       "<div>\n",
       "<style scoped>\n",
       "    .dataframe tbody tr th:only-of-type {\n",
       "        vertical-align: middle;\n",
       "    }\n",
       "\n",
       "    .dataframe tbody tr th {\n",
       "        vertical-align: top;\n",
       "    }\n",
       "\n",
       "    .dataframe thead th {\n",
       "        text-align: right;\n",
       "    }\n",
       "</style>\n",
       "<table border=\"1\" class=\"dataframe\">\n",
       "  <thead>\n",
       "    <tr style=\"text-align: right;\">\n",
       "      <th></th>\n",
       "      <th>product_id</th>\n",
       "      <th>product_name</th>\n",
       "      <th>list_price</th>\n",
       "    </tr>\n",
       "  </thead>\n",
       "  <tbody>\n",
       "    <tr>\n",
       "      <th>0</th>\n",
       "      <td>57</td>\n",
       "      <td>Northwind Traders Ravioli</td>\n",
       "      <td>19.50</td>\n",
       "    </tr>\n",
       "    <tr>\n",
       "      <th>1</th>\n",
       "      <td>40</td>\n",
       "      <td>Northwind Traders Crab Meat</td>\n",
       "      <td>18.40</td>\n",
       "    </tr>\n",
       "    <tr>\n",
       "      <th>2</th>\n",
       "      <td>1</td>\n",
       "      <td>Northwind Traders Chai</td>\n",
       "      <td>18.00</td>\n",
       "    </tr>\n",
       "    <tr>\n",
       "      <th>3</th>\n",
       "      <td>66</td>\n",
       "      <td>Northwind Traders Tomato Sauce</td>\n",
       "      <td>17.00</td>\n",
       "    </tr>\n",
       "    <tr>\n",
       "      <th>4</th>\n",
       "      <td>86</td>\n",
       "      <td>Northwind Traders Cake Mix</td>\n",
       "      <td>15.99</td>\n",
       "    </tr>\n",
       "  </tbody>\n",
       "</table>\n",
       "</div>"
      ],
      "text/plain": [
       "   product_id                    product_name  list_price\n",
       "0          57       Northwind Traders Ravioli       19.50\n",
       "1          40     Northwind Traders Crab Meat       18.40\n",
       "2           1          Northwind Traders Chai       18.00\n",
       "3          66  Northwind Traders Tomato Sauce       17.00\n",
       "4          86      Northwind Traders Cake Mix       15.99"
      ]
     },
     "execution_count": 58,
     "metadata": {},
     "output_type": "execute_result"
    }
   ],
   "source": [
    "conn_str = f\"mysql+pymysql://{user_id}:{pwd}@{host_name}/{db_name}\"\n",
    "\n",
    "sqlEngine = create_engine(conn_str, pool_recycle=3600)\n",
    "conn = sqlEngine.connect()\n",
    "\n",
    "df = pd.read_sql(sql_query, conn);\n",
    "\n",
    "conn.close()\n",
    "df.head()"
   ]
  },
  {
   "cell_type": "markdown",
   "id": "dbf956e5",
   "metadata": {},
   "source": [
    "### 5.0 Define Helper Functions to Encapsulate and Abstract the Implementation Details"
   ]
  },
  {
   "cell_type": "code",
   "execution_count": 67,
   "id": "f5ae0f44",
   "metadata": {},
   "outputs": [],
   "source": [
    "sql_query = \"\"\"\n",
    "    SELECT id AS product_id\n",
    "        , product_name\n",
    "        , list_price\n",
    "    FROM northwind.products\n",
    "    ORDER BY list_price DESC;\n",
    "\"\"\""
   ]
  },
  {
   "cell_type": "markdown",
   "id": "fb6fe809",
   "metadata": {},
   "source": [
    "#### 5.1. Using Individual Connection Parameters"
   ]
  },
  {
   "cell_type": "markdown",
   "id": "42e007c4",
   "metadata": {},
   "source": [
    "#### 5.1.1. Using SqlAlchemy"
   ]
  },
  {
   "cell_type": "code",
   "execution_count": 91,
   "id": "f8752ce2",
   "metadata": {},
   "outputs": [],
   "source": [
    "def get_sqlalchemy_dataframe(user_id, pwd, host_name, db_name, sql_query):\n",
    "    conn_str = f\"mysql+pymysql://{user_id}:{pwd}@{host_name}/{db_name}\"\n",
    "    sqlEngine = create_engine(conn_str, pool_recycle=3600)\n",
    "    connection = sqlEngine.connect()\n",
    "    dframe = pd.read_sql(sql_query, connection);\n",
    "    connection.close()\n",
    "    \n",
    "    return dframe"
   ]
  },
  {
   "cell_type": "code",
   "execution_count": 93,
   "id": "cd64dc50",
   "metadata": {},
   "outputs": [
    {
     "data": {
      "text/html": [
       "<div>\n",
       "<style scoped>\n",
       "    .dataframe tbody tr th:only-of-type {\n",
       "        vertical-align: middle;\n",
       "    }\n",
       "\n",
       "    .dataframe tbody tr th {\n",
       "        vertical-align: top;\n",
       "    }\n",
       "\n",
       "    .dataframe thead th {\n",
       "        text-align: right;\n",
       "    }\n",
       "</style>\n",
       "<table border=\"1\" class=\"dataframe\">\n",
       "  <thead>\n",
       "    <tr style=\"text-align: right;\">\n",
       "      <th></th>\n",
       "      <th>product_id</th>\n",
       "      <th>product_name</th>\n",
       "      <th>list_price</th>\n",
       "    </tr>\n",
       "  </thead>\n",
       "  <tbody>\n",
       "    <tr>\n",
       "      <th>0</th>\n",
       "      <td>20</td>\n",
       "      <td>Northwind Traders Marmalade</td>\n",
       "      <td>81.0</td>\n",
       "    </tr>\n",
       "    <tr>\n",
       "      <th>1</th>\n",
       "      <td>51</td>\n",
       "      <td>Northwind Traders Dried Apples</td>\n",
       "      <td>53.0</td>\n",
       "    </tr>\n",
       "    <tr>\n",
       "      <th>2</th>\n",
       "      <td>43</td>\n",
       "      <td>Northwind Traders Coffee</td>\n",
       "      <td>46.0</td>\n",
       "    </tr>\n",
       "  </tbody>\n",
       "</table>\n",
       "</div>"
      ],
      "text/plain": [
       "   product_id                    product_name  list_price\n",
       "0          20     Northwind Traders Marmalade        81.0\n",
       "1          51  Northwind Traders Dried Apples        53.0\n",
       "2          43        Northwind Traders Coffee        46.0"
      ]
     },
     "execution_count": 93,
     "metadata": {},
     "output_type": "execute_result"
    }
   ],
   "source": [
    "df = get_sqlalchemy_dataframe(user_id, pwd, host_name, db_name, sql_query)\n",
    "df.head(3)"
   ]
  },
  {
   "cell_type": "code",
   "execution_count": 95,
   "id": "9702852b",
   "metadata": {},
   "outputs": [
    {
     "name": "stdout",
     "output_type": "stream",
     "text": [
      "Shape: 45 Observations x 3 Features\n"
     ]
    }
   ],
   "source": [
    "print(f\"Shape: {df.shape[0]} Observations x {df.shape[1]} Features\")"
   ]
  },
  {
   "cell_type": "markdown",
   "id": "2692f47b",
   "metadata": {},
   "source": [
    "### 7.0. Explore Pandas DataFrames' Capabilities\n",
    "#### 7.1. Display the Data Type of Each Feature"
   ]
  },
  {
   "cell_type": "markdown",
   "id": "b26c0cc6",
   "metadata": {},
   "source": [
    "#### 7.1. Inspect the Cardinality (number of unique values) of each Feature"
   ]
  },
  {
   "cell_type": "code",
   "execution_count": 108,
   "id": "bd662302",
   "metadata": {},
   "outputs": [
    {
     "data": {
      "text/plain": [
       "supplier_ids                12\n",
       "id                          45\n",
       "product_code                43\n",
       "product_name                45\n",
       "description                  0\n",
       "standard_cost               29\n",
       "list_price                  37\n",
       "reorder_level                8\n",
       "target_level                10\n",
       "quantity_per_unit           32\n",
       "discontinued                 1\n",
       "minimum_reorder_quantity     6\n",
       "category                    16\n",
       "attachments                  1\n",
       "dtype: int64"
      ]
     },
     "execution_count": 108,
     "metadata": {},
     "output_type": "execute_result"
    }
   ],
   "source": [
    "df.nunique()"
   ]
  },
  {
   "cell_type": "code",
   "execution_count": 110,
   "id": "794553d2",
   "metadata": {
    "scrolled": true
   },
   "outputs": [
    {
     "data": {
      "text/html": [
       "<div>\n",
       "<style scoped>\n",
       "    .dataframe tbody tr th:only-of-type {\n",
       "        vertical-align: middle;\n",
       "    }\n",
       "\n",
       "    .dataframe tbody tr th {\n",
       "        vertical-align: top;\n",
       "    }\n",
       "\n",
       "    .dataframe thead th {\n",
       "        text-align: right;\n",
       "    }\n",
       "</style>\n",
       "<table border=\"1\" class=\"dataframe\">\n",
       "  <thead>\n",
       "    <tr style=\"text-align: right;\">\n",
       "      <th></th>\n",
       "      <th>Feature</th>\n",
       "      <th>Unique Values</th>\n",
       "    </tr>\n",
       "  </thead>\n",
       "  <tbody>\n",
       "    <tr>\n",
       "      <th>0</th>\n",
       "      <td>supplier_ids</td>\n",
       "      <td>[4, 10, 2;6, 2, 8, 6, 1, 7, 3;4, 5, 3, 9]</td>\n",
       "    </tr>\n",
       "    <tr>\n",
       "      <th>1</th>\n",
       "      <td>id</td>\n",
       "      <td>[1, 3, 4, 5, 6, 7, 8, 14, 17, 19, 20, 21, 34, ...</td>\n",
       "    </tr>\n",
       "    <tr>\n",
       "      <th>2</th>\n",
       "      <td>product_code</td>\n",
       "      <td>[NWTB-1, NWTCO-3, NWTCO-4, NWTO-5, NWTJP-6, NW...</td>\n",
       "    </tr>\n",
       "    <tr>\n",
       "      <th>3</th>\n",
       "      <td>product_name</td>\n",
       "      <td>[Northwind Traders Chai, Northwind Traders Syr...</td>\n",
       "    </tr>\n",
       "    <tr>\n",
       "      <th>4</th>\n",
       "      <td>description</td>\n",
       "      <td>[None]</td>\n",
       "    </tr>\n",
       "    <tr>\n",
       "      <th>5</th>\n",
       "      <td>standard_cost</td>\n",
       "      <td>[13.5, 7.5, 16.5, 16.0125, 18.75, 22.5, 30.0, ...</td>\n",
       "    </tr>\n",
       "    <tr>\n",
       "      <th>6</th>\n",
       "      <td>list_price</td>\n",
       "      <td>[18.0, 10.0, 22.0, 21.35, 25.0, 30.0, 40.0, 23...</td>\n",
       "    </tr>\n",
       "    <tr>\n",
       "      <th>7</th>\n",
       "      <td>reorder_level</td>\n",
       "      <td>[10, 25, 5, 15, 30, 20, 50, 100]</td>\n",
       "    </tr>\n",
       "    <tr>\n",
       "      <th>8</th>\n",
       "      <td>target_level</td>\n",
       "      <td>[40, 100, 20, 60, 120, 80, 75, 125, 200, 50]</td>\n",
       "    </tr>\n",
       "    <tr>\n",
       "      <th>9</th>\n",
       "      <td>quantity_per_unit</td>\n",
       "      <td>[10 boxes x 20 bags, 12 - 550 ml bottles, 48 -...</td>\n",
       "    </tr>\n",
       "    <tr>\n",
       "      <th>10</th>\n",
       "      <td>discontinued</td>\n",
       "      <td>[0]</td>\n",
       "    </tr>\n",
       "    <tr>\n",
       "      <th>11</th>\n",
       "      <td>minimum_reorder_quantity</td>\n",
       "      <td>[10.0, 25.0, 5.0, 15.0, 30.0, 20.0, nan]</td>\n",
       "    </tr>\n",
       "    <tr>\n",
       "      <th>12</th>\n",
       "      <td>category</td>\n",
       "      <td>[Beverages, Condiments, Oil, Jams, Preserves, ...</td>\n",
       "    </tr>\n",
       "    <tr>\n",
       "      <th>13</th>\n",
       "      <td>attachments</td>\n",
       "      <td>[b'']</td>\n",
       "    </tr>\n",
       "  </tbody>\n",
       "</table>\n",
       "</div>"
      ],
      "text/plain": [
       "                     Feature  \\\n",
       "0               supplier_ids   \n",
       "1                         id   \n",
       "2               product_code   \n",
       "3               product_name   \n",
       "4                description   \n",
       "5              standard_cost   \n",
       "6                 list_price   \n",
       "7              reorder_level   \n",
       "8               target_level   \n",
       "9          quantity_per_unit   \n",
       "10              discontinued   \n",
       "11  minimum_reorder_quantity   \n",
       "12                  category   \n",
       "13               attachments   \n",
       "\n",
       "                                        Unique Values  \n",
       "0           [4, 10, 2;6, 2, 8, 6, 1, 7, 3;4, 5, 3, 9]  \n",
       "1   [1, 3, 4, 5, 6, 7, 8, 14, 17, 19, 20, 21, 34, ...  \n",
       "2   [NWTB-1, NWTCO-3, NWTCO-4, NWTO-5, NWTJP-6, NW...  \n",
       "3   [Northwind Traders Chai, Northwind Traders Syr...  \n",
       "4                                              [None]  \n",
       "5   [13.5, 7.5, 16.5, 16.0125, 18.75, 22.5, 30.0, ...  \n",
       "6   [18.0, 10.0, 22.0, 21.35, 25.0, 30.0, 40.0, 23...  \n",
       "7                    [10, 25, 5, 15, 30, 20, 50, 100]  \n",
       "8        [40, 100, 20, 60, 120, 80, 75, 125, 200, 50]  \n",
       "9   [10 boxes x 20 bags, 12 - 550 ml bottles, 48 -...  \n",
       "10                                                [0]  \n",
       "11           [10.0, 25.0, 5.0, 15.0, 30.0, 20.0, nan]  \n",
       "12  [Beverages, Condiments, Oil, Jams, Preserves, ...  \n",
       "13                                              [b'']  "
      ]
     },
     "execution_count": 110,
     "metadata": {},
     "output_type": "execute_result"
    }
   ],
   "source": [
    "unique_values = []\n",
    "\n",
    "for column in df.columns:\n",
    "    unique_values.append(df[column].unique())\n",
    "    \n",
    "data = list(zip(df.columns, unique_values))    \n",
    "    \n",
    "pd.DataFrame(data, columns=['Feature', 'Unique Values'])"
   ]
  },
  {
   "cell_type": "markdown",
   "id": "c25b45f8",
   "metadata": {},
   "source": [
    "#### 7.2. Display any Missing (NULL) values"
   ]
  },
  {
   "cell_type": "code",
   "execution_count": 112,
   "id": "9a7e0611",
   "metadata": {},
   "outputs": [
    {
     "data": {
      "text/plain": [
       "supplier_ids                 0\n",
       "id                           0\n",
       "product_code                 0\n",
       "product_name                 0\n",
       "standard_cost                0\n",
       "list_price                   0\n",
       "reorder_level                0\n",
       "target_level                 0\n",
       "discontinued                 0\n",
       "category                     0\n",
       "attachments                  0\n",
       "quantity_per_unit            5\n",
       "minimum_reorder_quantity    15\n",
       "description                 45\n",
       "dtype: int64"
      ]
     },
     "execution_count": 112,
     "metadata": {},
     "output_type": "execute_result"
    }
   ],
   "source": [
    "df.isnull().sum().sort_values(ascending=True)"
   ]
  },
  {
   "cell_type": "markdown",
   "id": "e25517e2",
   "metadata": {},
   "source": [
    "#### 7.3. Separate Numerical and Categorical Features"
   ]
  },
  {
   "cell_type": "code",
   "execution_count": 114,
   "id": "4154b686",
   "metadata": {},
   "outputs": [
    {
     "name": "stdout",
     "output_type": "stream",
     "text": [
      "['id', 'standard_cost', 'list_price', 'reorder_level', 'target_level', 'discontinued', 'minimum_reorder_quantity']\n",
      "['supplier_ids', 'product_code', 'product_name', 'description', 'quantity_per_unit', 'category', 'attachments']\n"
     ]
    }
   ],
   "source": [
    "numerical_cols = [col for col in df.columns if df.dtypes[col] != 'O']\n",
    "categorical_cols = [col for col in df.columns if col not in numerical_cols]\n",
    "\n",
    "print(numerical_cols)\n",
    "print(categorical_cols)"
   ]
  },
  {
   "cell_type": "markdown",
   "id": "1633d8aa",
   "metadata": {},
   "source": [
    "#### 7.4. Evaluate the Statistical Distribution of the Numerical Features"
   ]
  },
  {
   "cell_type": "code",
   "execution_count": 116,
   "id": "a79b4e64",
   "metadata": {},
   "outputs": [
    {
     "data": {
      "text/html": [
       "<div>\n",
       "<style scoped>\n",
       "    .dataframe tbody tr th:only-of-type {\n",
       "        vertical-align: middle;\n",
       "    }\n",
       "\n",
       "    .dataframe tbody tr th {\n",
       "        vertical-align: top;\n",
       "    }\n",
       "\n",
       "    .dataframe thead th {\n",
       "        text-align: right;\n",
       "    }\n",
       "</style>\n",
       "<table border=\"1\" class=\"dataframe\">\n",
       "  <thead>\n",
       "    <tr style=\"text-align: right;\">\n",
       "      <th></th>\n",
       "      <th>id</th>\n",
       "      <th>standard_cost</th>\n",
       "      <th>list_price</th>\n",
       "      <th>reorder_level</th>\n",
       "      <th>target_level</th>\n",
       "      <th>discontinued</th>\n",
       "      <th>minimum_reorder_quantity</th>\n",
       "    </tr>\n",
       "  </thead>\n",
       "  <tbody>\n",
       "    <tr>\n",
       "      <th>count</th>\n",
       "      <td>45.000000</td>\n",
       "      <td>45.000000</td>\n",
       "      <td>45.000000</td>\n",
       "      <td>45.000000</td>\n",
       "      <td>45.000000</td>\n",
       "      <td>45.0</td>\n",
       "      <td>30.000000</td>\n",
       "    </tr>\n",
       "    <tr>\n",
       "      <th>mean</th>\n",
       "      <td>57.933333</td>\n",
       "      <td>11.682500</td>\n",
       "      <td>15.845778</td>\n",
       "      <td>22.444444</td>\n",
       "      <td>69.555556</td>\n",
       "      <td>0.0</td>\n",
       "      <td>15.000000</td>\n",
       "    </tr>\n",
       "    <tr>\n",
       "      <th>std</th>\n",
       "      <td>33.750017</td>\n",
       "      <td>12.689461</td>\n",
       "      <td>16.743022</td>\n",
       "      <td>23.442924</td>\n",
       "      <td>50.506775</td>\n",
       "      <td>0.0</td>\n",
       "      <td>8.304548</td>\n",
       "    </tr>\n",
       "    <tr>\n",
       "      <th>min</th>\n",
       "      <td>1.000000</td>\n",
       "      <td>0.500000</td>\n",
       "      <td>1.200000</td>\n",
       "      <td>5.000000</td>\n",
       "      <td>20.000000</td>\n",
       "      <td>0.0</td>\n",
       "      <td>5.000000</td>\n",
       "    </tr>\n",
       "    <tr>\n",
       "      <th>25%</th>\n",
       "      <td>21.000000</td>\n",
       "      <td>2.000000</td>\n",
       "      <td>2.990000</td>\n",
       "      <td>10.000000</td>\n",
       "      <td>40.000000</td>\n",
       "      <td>0.0</td>\n",
       "      <td>10.000000</td>\n",
       "    </tr>\n",
       "    <tr>\n",
       "      <th>50%</th>\n",
       "      <td>66.000000</td>\n",
       "      <td>7.500000</td>\n",
       "      <td>10.000000</td>\n",
       "      <td>10.000000</td>\n",
       "      <td>40.000000</td>\n",
       "      <td>0.0</td>\n",
       "      <td>10.000000</td>\n",
       "    </tr>\n",
       "    <tr>\n",
       "      <th>75%</th>\n",
       "      <td>88.000000</td>\n",
       "      <td>16.012500</td>\n",
       "      <td>21.350000</td>\n",
       "      <td>25.000000</td>\n",
       "      <td>100.000000</td>\n",
       "      <td>0.0</td>\n",
       "      <td>25.000000</td>\n",
       "    </tr>\n",
       "    <tr>\n",
       "      <th>max</th>\n",
       "      <td>99.000000</td>\n",
       "      <td>60.750000</td>\n",
       "      <td>81.000000</td>\n",
       "      <td>100.000000</td>\n",
       "      <td>200.000000</td>\n",
       "      <td>0.0</td>\n",
       "      <td>30.000000</td>\n",
       "    </tr>\n",
       "  </tbody>\n",
       "</table>\n",
       "</div>"
      ],
      "text/plain": [
       "              id  standard_cost  list_price  reorder_level  target_level  \\\n",
       "count  45.000000      45.000000   45.000000      45.000000     45.000000   \n",
       "mean   57.933333      11.682500   15.845778      22.444444     69.555556   \n",
       "std    33.750017      12.689461   16.743022      23.442924     50.506775   \n",
       "min     1.000000       0.500000    1.200000       5.000000     20.000000   \n",
       "25%    21.000000       2.000000    2.990000      10.000000     40.000000   \n",
       "50%    66.000000       7.500000   10.000000      10.000000     40.000000   \n",
       "75%    88.000000      16.012500   21.350000      25.000000    100.000000   \n",
       "max    99.000000      60.750000   81.000000     100.000000    200.000000   \n",
       "\n",
       "       discontinued  minimum_reorder_quantity  \n",
       "count          45.0                 30.000000  \n",
       "mean            0.0                 15.000000  \n",
       "std             0.0                  8.304548  \n",
       "min             0.0                  5.000000  \n",
       "25%             0.0                 10.000000  \n",
       "50%             0.0                 10.000000  \n",
       "75%             0.0                 25.000000  \n",
       "max             0.0                 30.000000  "
      ]
     },
     "execution_count": 116,
     "metadata": {},
     "output_type": "execute_result"
    }
   ],
   "source": [
    "df[numerical_cols].describe()"
   ]
  },
  {
   "cell_type": "markdown",
   "id": "6bb8d9c7",
   "metadata": {},
   "source": [
    "#### 7.5. Write the Contents of the DataFrame to a Comma-Separated Values (CSV) File"
   ]
  },
  {
   "cell_type": "code",
   "execution_count": 118,
   "id": "9708903a",
   "metadata": {},
   "outputs": [],
   "source": [
    "data_dir = os.path.join(os.getcwd(), 'data')\n",
    "dest_file = os.path.join(data_dir, 'northwind_products.csv')\n",
    "\n",
    "df.to_csv(dest_file)"
   ]
  },
  {
   "cell_type": "code",
   "execution_count": null,
   "id": "2b20a90b-baad-4f15-a708-dcebce8379eb",
   "metadata": {},
   "outputs": [],
   "source": []
  }
 ],
 "metadata": {
  "kernelspec": {
   "display_name": "Python 3 (ipykernel)",
   "language": "python",
   "name": "python3"
  },
  "language_info": {
   "codemirror_mode": {
    "name": "ipython",
    "version": 3
   },
   "file_extension": ".py",
   "mimetype": "text/x-python",
   "name": "python",
   "nbconvert_exporter": "python",
   "pygments_lexer": "ipython3",
   "version": "3.12.4"
  }
 },
 "nbformat": 4,
 "nbformat_minor": 5
}
