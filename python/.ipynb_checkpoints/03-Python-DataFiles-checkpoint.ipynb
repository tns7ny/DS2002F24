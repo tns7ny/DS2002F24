{
 "cells": [
  {
   "cell_type": "markdown",
   "id": "0d1275e1",
   "metadata": {},
   "source": [
    "## Using Python to Extract Data From Files"
   ]
  },
  {
   "cell_type": "code",
   "execution_count": null,
   "id": "d34debf1",
   "metadata": {},
   "outputs": [],
   "source": [
    "import os\n",
    "import pandas as pd"
   ]
  },
  {
   "cell_type": "markdown",
   "id": "077c1ba9",
   "metadata": {},
   "source": [
    "### 1.0. Load Data from a Comma-Separated Values (CSV) File"
   ]
  },
  {
   "cell_type": "code",
   "execution_count": null,
   "id": "049d22e5",
   "metadata": {},
   "outputs": [],
   "source": [
    "data_dir = os.path.join(os.getcwd(), 'data')\n",
    "data_file = os.path.join(data_dir, 'northwind_products.csv')\n",
    "\n",
    "df = pd.read_csv(data_file, header=0, index_col=0)\n",
    "df.head()"
   ]
  },
  {
   "cell_type": "markdown",
   "id": "764ab3e8",
   "metadata": {},
   "source": [
    "### 2.0. Drop Unimportant Features"
   ]
  },
  {
   "cell_type": "code",
   "execution_count": null,
   "id": "3e149bf8",
   "metadata": {},
   "outputs": [],
   "source": [
    "df.drop(['description','attachments'], axis=1, inplace=True)\n",
    "df.columns"
   ]
  },
  {
   "cell_type": "markdown",
   "id": "baeec0a8",
   "metadata": {},
   "source": [
    "### 3.0. Add a New Feature Using a Map (Dictionary) to Assign New Values"
   ]
  },
  {
   "cell_type": "code",
   "execution_count": null,
   "id": "d0637119",
   "metadata": {},
   "outputs": [],
   "source": [
    "df['discontinued_desc'] = df.discontinued.map({1: 'True', 0: 'False'})\n",
    "df.head()"
   ]
  },
  {
   "cell_type": "markdown",
   "id": "3ca5a1f6",
   "metadata": {},
   "source": [
    "### 4.0. Identify Duplicated Observations"
   ]
  },
  {
   "cell_type": "code",
   "execution_count": null,
   "id": "e18e53de",
   "metadata": {},
   "outputs": [],
   "source": [
    "df[df.duplicated(subset='product_code', keep=False) == True]"
   ]
  },
  {
   "cell_type": "code",
   "execution_count": null,
   "id": "1cd83093",
   "metadata": {},
   "outputs": [],
   "source": []
  }
 ],
 "metadata": {
  "kernelspec": {
   "display_name": "Python 3 (ipykernel)",
   "language": "python",
   "name": "python3"
  },
  "language_info": {
   "codemirror_mode": {
    "name": "ipython",
    "version": 3
   },
   "file_extension": ".py",
   "mimetype": "text/x-python",
   "name": "python",
   "nbconvert_exporter": "python",
   "pygments_lexer": "ipython3",
   "version": "3.9.12"
  }
 },
 "nbformat": 4,
 "nbformat_minor": 5
}
